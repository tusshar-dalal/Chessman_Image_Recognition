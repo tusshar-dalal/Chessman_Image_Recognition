{
  "nbformat": 4,
  "nbformat_minor": 0,
  "metadata": {
    "accelerator": "GPU",
    "colab": {
      "name": "OriginalChessman_Tushar_20210628.ipynb",
      "provenance": [],
      "collapsed_sections": [],
      "mount_file_id": "1YIWbsawcQjaYftHo5MpH5j1bjllGNJ3y",
      "authorship_tag": "ABX9TyMDVXJ/FMrpPtv01bBfr6Hx"
    },
    "kernelspec": {
      "display_name": "Python 3",
      "name": "python3"
    }
  },
  "cells": [
    {
      "cell_type": "code",
      "metadata": {
        "id": "xyMh1pSuTlnN"
      },
      "source": [
        "import tensorflow as tf\n",
        "from tensorflow import keras\n",
        "from tensorflow.keras.models import Sequential\n",
        "from tensorflow.keras.layers import Dense, Conv2D, Flatten, Dropout, MaxPooling2D, BatchNormalization \n",
        "from tensorflow.keras.preprocessing.image import ImageDataGenerator\n",
        "from keras.utils.vis_utils import plot_model\n",
        "from google.colab import files\n",
        "import os\n",
        "import numpy as np\n",
        "import pandas as pd\n",
        "import os\n",
        "import matplotlib.pyplot as plt\n",
        "from tensorflow.keras import layers"
      ],
      "execution_count": null,
      "outputs": []
    },
    {
      "cell_type": "code",
      "metadata": {
        "id": "zHyRRDWvDiSk"
      },
      "source": [
        "from tensorflow.keras.applications.inception_v3 import InceptionV3, preprocess_input\n",
        "from tensorflow.keras.applications.vgg16 import VGG16, preprocess_input\n",
        "from tensorflow.keras.applications.vgg19 import VGG19, preprocess_input\n",
        "from tensorflow.keras.applications.resnet50 import ResNet50, preprocess_input\n",
        "from tensorflow.keras.applications.xception import Xception, preprocess_input\n",
        "from tensorflow.keras.applications.inception_resnet_v2 import InceptionResNetV2, preprocess_input"
      ],
      "execution_count": null,
      "outputs": []
    },
    {
      "cell_type": "code",
      "metadata": {
        "colab": {
          "base_uri": "https://localhost:8080/"
        },
        "id": "WUPNq-raTuwA",
        "outputId": "61f93209-1f1d-45c7-c62f-a596f46c1057"
      },
      "source": [
        "dirname = '/content/drive/MyDrive/chessman/Chessman-image-dataset'\n",
        "dir_chess_folders = os.listdir(dirname)\n",
        "dir_chess_paths = [os.path.join(dirname, path) for path in dir_chess_folders]\n",
        "print(dir_chess_folders)\n",
        "print(dir_chess_paths)"
      ],
      "execution_count": null,
      "outputs": [
        {
          "output_type": "stream",
          "text": [
            "['Knight', 'Bishop', 'King', 'Pawn', 'Queen', 'Rook']\n",
            "['/content/drive/MyDrive/chessman/Chessman-image-dataset/Knight', '/content/drive/MyDrive/chessman/Chessman-image-dataset/Bishop', '/content/drive/MyDrive/chessman/Chessman-image-dataset/King', '/content/drive/MyDrive/chessman/Chessman-image-dataset/Pawn', '/content/drive/MyDrive/chessman/Chessman-image-dataset/Queen', '/content/drive/MyDrive/chessman/Chessman-image-dataset/Rook']\n"
          ],
          "name": "stdout"
        }
      ]
    },
    {
      "cell_type": "code",
      "metadata": {
        "colab": {
          "base_uri": "https://localhost:8080/"
        },
        "id": "VVnDat2tpQs8",
        "outputId": "0f208b07-e76e-451b-8d92-c10cfb400a65"
      },
      "source": [
        "labels = dir_chess_folders\n",
        "labels"
      ],
      "execution_count": null,
      "outputs": [
        {
          "output_type": "execute_result",
          "data": {
            "text/plain": [
              "['Knight', 'Bishop', 'King', 'Pawn', 'Queen', 'Rook']"
            ]
          },
          "metadata": {
            "tags": []
          },
          "execution_count": 4
        }
      ]
    },
    {
      "cell_type": "code",
      "metadata": {
        "colab": {
          "base_uri": "https://localhost:8080/"
        },
        "id": "herT-wB1Tuym",
        "outputId": "dea38708-db85-420f-b75a-54cdb29ede04"
      },
      "source": [
        "img_size_h = 300\n",
        "img_size_w = 300\n",
        "\n",
        "train_datagen = ImageDataGenerator(\n",
        "    rescale=1./255,\n",
        "    validation_split=0.3,\n",
        "    rotation_range=30, \n",
        "    horizontal_flip=True,\n",
        "    vertical_flip=True,\n",
        "    width_shift_range=0.1,\n",
        "    height_shift_range=0.1\n",
        "    )\n",
        "\n",
        "input_shape = (img_size_h, img_size_w, 3) \n",
        "epoch = 80\n",
        "train_generator = train_datagen.flow_from_directory(\n",
        "    directory=dirname,\n",
        "    target_size=(img_size_h, img_size_w),\n",
        "    subset='training',\n",
        "    class_mode=\"sparse\",\n",
        "    shuffle=True, \n",
        "    seed=8)\n",
        "\n",
        "validation_generator = train_datagen.flow_from_directory(\n",
        "    directory=dirname,\n",
        "    target_size=(img_size_h, img_size_w),\n",
        "    subset='validation',\n",
        "    class_mode=\"sparse\",\n",
        "    shuffle=True,\n",
        "    seed=8)"
      ],
      "execution_count": null,
      "outputs": [
        {
          "output_type": "stream",
          "text": [
            "Found 341 images belonging to 6 classes.\n",
            "Found 142 images belonging to 6 classes.\n"
          ],
          "name": "stdout"
        }
      ]
    },
    {
      "cell_type": "markdown",
      "metadata": {
        "id": "-XXho1Cc2Ilp"
      },
      "source": [
        "Using Pre-trained Model 'InceptionResNetV2' trained on 'Imagenet' Dataset"
      ]
    },
    {
      "cell_type": "code",
      "metadata": {
        "id": "t9N_rfVqEpCn",
        "colab": {
          "base_uri": "https://localhost:8080/"
        },
        "outputId": "d09a9146-3ff9-4357-faf6-6431b0d83f4e"
      },
      "source": [
        "pre_trained_model= InceptionResNetV2(input_shape=(img_size_w, img_size_h,3),\n",
        "                              include_top=False,\n",
        "                              weights='imagenet')"
      ],
      "execution_count": null,
      "outputs": [
        {
          "output_type": "stream",
          "text": [
            "Downloading data from https://storage.googleapis.com/tensorflow/keras-applications/inception_resnet_v2/inception_resnet_v2_weights_tf_dim_ordering_tf_kernels_notop.h5\n",
            "219062272/219055592 [==============================] - 1s 0us/step\n"
          ],
          "name": "stdout"
        }
      ]
    },
    {
      "cell_type": "code",
      "metadata": {
        "id": "haUTzvsqErGk"
      },
      "source": [
        "pre_trained_model.trainable = False"
      ],
      "execution_count": null,
      "outputs": []
    },
    {
      "cell_type": "code",
      "metadata": {
        "id": "PcNfdNIGHkRu"
      },
      "source": [
        "# Building a Model\n",
        "model1=Sequential()\n",
        "model1.add(pre_trained_model)\n",
        "model1.add(layers.Flatten())\n",
        "model1.add(Dense(512, activation='relu'))\n",
        "model1.add(keras.layers.BatchNormalization())\n",
        "model1.add(layers.Dropout(0.5))\n",
        "model1.add(Dense(256, activation='relu'))\n",
        "model1.add(keras.layers.BatchNormalization())\n",
        "model1.add(layers.Dropout(0.5))\n",
        "model1.add(Dense(128, activation='relu'))\n",
        "model1.add(keras.layers.BatchNormalization())\n",
        "model1.add(layers.Dropout(0.5))\n",
        "model1.add(Dense(64, activation='relu'))\n",
        "model1.add(keras.layers.BatchNormalization())\n",
        "model1.add(layers.Dropout(0.5))\n",
        "\n",
        "model1.add(Dense(6, activation='softmax'))\n",
        "\n",
        "model1.compile(optimizer = 'adam',\n",
        "             loss='sparse_categorical_crossentropy',\n",
        "             metrics=['acc'])"
      ],
      "execution_count": null,
      "outputs": []
    },
    {
      "cell_type": "code",
      "metadata": {
        "id": "YtXHnovqTu6T",
        "colab": {
          "base_uri": "https://localhost:8080/"
        },
        "outputId": "b2a88c17-f76b-4b84-84b5-019f06ad9499"
      },
      "source": [
        "model1.summary()"
      ],
      "execution_count": null,
      "outputs": [
        {
          "output_type": "stream",
          "text": [
            "Model: \"sequential\"\n",
            "_________________________________________________________________\n",
            "Layer (type)                 Output Shape              Param #   \n",
            "=================================================================\n",
            "inception_resnet_v2 (Functio (None, 8, 8, 1536)        54336736  \n",
            "_________________________________________________________________\n",
            "flatten (Flatten)            (None, 98304)             0         \n",
            "_________________________________________________________________\n",
            "dense (Dense)                (None, 512)               50332160  \n",
            "_________________________________________________________________\n",
            "batch_normalization_203 (Bat (None, 512)               2048      \n",
            "_________________________________________________________________\n",
            "dropout (Dropout)            (None, 512)               0         \n",
            "_________________________________________________________________\n",
            "dense_1 (Dense)              (None, 256)               131328    \n",
            "_________________________________________________________________\n",
            "batch_normalization_204 (Bat (None, 256)               1024      \n",
            "_________________________________________________________________\n",
            "dropout_1 (Dropout)          (None, 256)               0         \n",
            "_________________________________________________________________\n",
            "dense_2 (Dense)              (None, 128)               32896     \n",
            "_________________________________________________________________\n",
            "batch_normalization_205 (Bat (None, 128)               512       \n",
            "_________________________________________________________________\n",
            "dropout_2 (Dropout)          (None, 128)               0         \n",
            "_________________________________________________________________\n",
            "dense_3 (Dense)              (None, 64)                8256      \n",
            "_________________________________________________________________\n",
            "batch_normalization_206 (Bat (None, 64)                256       \n",
            "_________________________________________________________________\n",
            "dropout_3 (Dropout)          (None, 64)                0         \n",
            "_________________________________________________________________\n",
            "dense_4 (Dense)              (None, 6)                 390       \n",
            "=================================================================\n",
            "Total params: 104,845,606\n",
            "Trainable params: 50,506,950\n",
            "Non-trainable params: 54,338,656\n",
            "_________________________________________________________________\n"
          ],
          "name": "stdout"
        }
      ]
    },
    {
      "cell_type": "code",
      "metadata": {
        "colab": {
          "base_uri": "https://localhost:8080/"
        },
        "id": "85MtbkrPTu9P",
        "outputId": "e94a3306-af4e-413e-9493-b653f3a17e3c"
      },
      "source": [
        "r = model1.fit(\n",
        "    train_generator, epochs=epoch, validation_data=validation_generator\n",
        ")"
      ],
      "execution_count": null,
      "outputs": [
        {
          "output_type": "stream",
          "text": [
            "Epoch 1/80\n",
            "11/11 [==============================] - 199s 16s/step - loss: 2.8232 - acc: 0.1906 - val_loss: 6.0984 - val_acc: 0.2324\n",
            "Epoch 2/80\n",
            "11/11 [==============================] - 16s 1s/step - loss: 2.5648 - acc: 0.1848 - val_loss: 3.6137 - val_acc: 0.3028\n",
            "Epoch 3/80\n",
            "11/11 [==============================] - 16s 1s/step - loss: 2.5264 - acc: 0.2141 - val_loss: 2.4223 - val_acc: 0.2113\n",
            "Epoch 4/80\n",
            "11/11 [==============================] - 16s 1s/step - loss: 2.4918 - acc: 0.2111 - val_loss: 2.1060 - val_acc: 0.2676\n",
            "Epoch 5/80\n",
            "11/11 [==============================] - 16s 1s/step - loss: 2.3417 - acc: 0.2317 - val_loss: 1.9052 - val_acc: 0.3239\n",
            "Epoch 6/80\n",
            "11/11 [==============================] - 16s 1s/step - loss: 2.3187 - acc: 0.2375 - val_loss: 1.7559 - val_acc: 0.3169\n",
            "Epoch 7/80\n",
            "11/11 [==============================] - 16s 1s/step - loss: 2.1834 - acc: 0.2903 - val_loss: 1.6379 - val_acc: 0.3380\n",
            "Epoch 8/80\n",
            "11/11 [==============================] - 16s 1s/step - loss: 2.2494 - acc: 0.2405 - val_loss: 1.6501 - val_acc: 0.3803\n",
            "Epoch 9/80\n",
            "11/11 [==============================] - 16s 1s/step - loss: 2.1671 - acc: 0.2815 - val_loss: 1.6394 - val_acc: 0.3521\n",
            "Epoch 10/80\n",
            "11/11 [==============================] - 16s 1s/step - loss: 2.0151 - acc: 0.2874 - val_loss: 1.6277 - val_acc: 0.3169\n",
            "Epoch 11/80\n",
            "11/11 [==============================] - 16s 1s/step - loss: 1.9753 - acc: 0.2903 - val_loss: 1.4678 - val_acc: 0.3944\n",
            "Epoch 12/80\n",
            "11/11 [==============================] - 16s 1s/step - loss: 1.8249 - acc: 0.3783 - val_loss: 1.3974 - val_acc: 0.4296\n",
            "Epoch 13/80\n",
            "11/11 [==============================] - 16s 1s/step - loss: 1.8113 - acc: 0.3284 - val_loss: 1.4188 - val_acc: 0.3944\n",
            "Epoch 14/80\n",
            "11/11 [==============================] - 16s 1s/step - loss: 1.8468 - acc: 0.3607 - val_loss: 1.2959 - val_acc: 0.5211\n",
            "Epoch 15/80\n",
            "11/11 [==============================] - 16s 1s/step - loss: 1.7554 - acc: 0.3871 - val_loss: 1.4066 - val_acc: 0.4507\n",
            "Epoch 16/80\n",
            "11/11 [==============================] - 16s 1s/step - loss: 1.7222 - acc: 0.3842 - val_loss: 1.3994 - val_acc: 0.4085\n",
            "Epoch 17/80\n",
            "11/11 [==============================] - 16s 1s/step - loss: 1.5675 - acc: 0.4311 - val_loss: 1.2090 - val_acc: 0.4718\n",
            "Epoch 18/80\n",
            "11/11 [==============================] - 16s 1s/step - loss: 1.6425 - acc: 0.4076 - val_loss: 1.2129 - val_acc: 0.5070\n",
            "Epoch 19/80\n",
            "11/11 [==============================] - 16s 1s/step - loss: 1.6647 - acc: 0.4194 - val_loss: 1.1292 - val_acc: 0.5423\n",
            "Epoch 20/80\n",
            "11/11 [==============================] - 16s 1s/step - loss: 1.5936 - acc: 0.4428 - val_loss: 1.1586 - val_acc: 0.5211\n",
            "Epoch 21/80\n",
            "11/11 [==============================] - 16s 1s/step - loss: 1.6099 - acc: 0.3812 - val_loss: 1.2016 - val_acc: 0.5070\n",
            "Epoch 22/80\n",
            "11/11 [==============================] - 16s 1s/step - loss: 1.4476 - acc: 0.4399 - val_loss: 1.1356 - val_acc: 0.5352\n",
            "Epoch 23/80\n",
            "11/11 [==============================] - 16s 1s/step - loss: 1.4437 - acc: 0.4721 - val_loss: 1.0816 - val_acc: 0.5845\n",
            "Epoch 24/80\n",
            "11/11 [==============================] - 16s 1s/step - loss: 1.3398 - acc: 0.5249 - val_loss: 1.0782 - val_acc: 0.5493\n",
            "Epoch 25/80\n",
            "11/11 [==============================] - 16s 1s/step - loss: 1.3239 - acc: 0.5015 - val_loss: 1.0639 - val_acc: 0.5915\n",
            "Epoch 26/80\n",
            "11/11 [==============================] - 16s 1s/step - loss: 1.3651 - acc: 0.4633 - val_loss: 1.1273 - val_acc: 0.5423\n",
            "Epoch 27/80\n",
            "11/11 [==============================] - 16s 1s/step - loss: 1.3626 - acc: 0.5044 - val_loss: 1.0714 - val_acc: 0.5493\n",
            "Epoch 28/80\n",
            "11/11 [==============================] - 16s 1s/step - loss: 1.3623 - acc: 0.5044 - val_loss: 0.9514 - val_acc: 0.6549\n",
            "Epoch 29/80\n",
            "11/11 [==============================] - 16s 1s/step - loss: 1.2440 - acc: 0.5484 - val_loss: 1.0001 - val_acc: 0.5986\n",
            "Epoch 30/80\n",
            "11/11 [==============================] - 16s 1s/step - loss: 1.2639 - acc: 0.5044 - val_loss: 0.9309 - val_acc: 0.6127\n",
            "Epoch 31/80\n",
            "11/11 [==============================] - 16s 1s/step - loss: 1.2586 - acc: 0.5279 - val_loss: 0.8691 - val_acc: 0.6690\n",
            "Epoch 32/80\n",
            "11/11 [==============================] - 16s 1s/step - loss: 1.1220 - acc: 0.5689 - val_loss: 0.9806 - val_acc: 0.6268\n",
            "Epoch 33/80\n",
            "11/11 [==============================] - 16s 1s/step - loss: 1.3088 - acc: 0.5220 - val_loss: 0.9375 - val_acc: 0.5704\n",
            "Epoch 34/80\n",
            "11/11 [==============================] - 16s 1s/step - loss: 1.2370 - acc: 0.5660 - val_loss: 0.9182 - val_acc: 0.6056\n",
            "Epoch 35/80\n",
            "11/11 [==============================] - 16s 1s/step - loss: 1.1831 - acc: 0.5367 - val_loss: 0.9101 - val_acc: 0.6408\n",
            "Epoch 36/80\n",
            "11/11 [==============================] - 16s 1s/step - loss: 1.1332 - acc: 0.5865 - val_loss: 0.8975 - val_acc: 0.6268\n",
            "Epoch 37/80\n",
            "11/11 [==============================] - 16s 1s/step - loss: 1.1312 - acc: 0.5836 - val_loss: 0.8956 - val_acc: 0.6831\n",
            "Epoch 38/80\n",
            "11/11 [==============================] - 16s 1s/step - loss: 1.0482 - acc: 0.5894 - val_loss: 0.9083 - val_acc: 0.6549\n",
            "Epoch 39/80\n",
            "11/11 [==============================] - 16s 1s/step - loss: 1.0226 - acc: 0.6041 - val_loss: 0.9409 - val_acc: 0.6056\n",
            "Epoch 40/80\n",
            "11/11 [==============================] - 16s 1s/step - loss: 1.0868 - acc: 0.5836 - val_loss: 0.8803 - val_acc: 0.6549\n",
            "Epoch 41/80\n",
            "11/11 [==============================] - 16s 1s/step - loss: 0.9893 - acc: 0.6305 - val_loss: 0.8880 - val_acc: 0.6268\n",
            "Epoch 42/80\n",
            "11/11 [==============================] - 16s 1s/step - loss: 0.9831 - acc: 0.6188 - val_loss: 0.9611 - val_acc: 0.5986\n",
            "Epoch 43/80\n",
            "11/11 [==============================] - 16s 1s/step - loss: 1.0364 - acc: 0.5953 - val_loss: 0.8407 - val_acc: 0.6479\n",
            "Epoch 44/80\n",
            "11/11 [==============================] - 16s 1s/step - loss: 1.0270 - acc: 0.5982 - val_loss: 0.8570 - val_acc: 0.6620\n",
            "Epoch 45/80\n",
            "11/11 [==============================] - 16s 1s/step - loss: 0.9293 - acc: 0.6657 - val_loss: 0.8786 - val_acc: 0.5986\n",
            "Epoch 46/80\n",
            "11/11 [==============================] - 16s 1s/step - loss: 1.0191 - acc: 0.6217 - val_loss: 0.7891 - val_acc: 0.6549\n",
            "Epoch 47/80\n",
            "11/11 [==============================] - 16s 1s/step - loss: 0.9521 - acc: 0.6510 - val_loss: 0.7527 - val_acc: 0.7113\n",
            "Epoch 48/80\n",
            "11/11 [==============================] - 16s 1s/step - loss: 0.8775 - acc: 0.6334 - val_loss: 0.7828 - val_acc: 0.6761\n",
            "Epoch 49/80\n",
            "11/11 [==============================] - 16s 1s/step - loss: 0.8627 - acc: 0.6979 - val_loss: 0.8125 - val_acc: 0.6620\n",
            "Epoch 50/80\n",
            "11/11 [==============================] - 16s 1s/step - loss: 0.8525 - acc: 0.6686 - val_loss: 0.8062 - val_acc: 0.6831\n",
            "Epoch 51/80\n",
            "11/11 [==============================] - 15s 1s/step - loss: 0.8594 - acc: 0.6716 - val_loss: 0.8253 - val_acc: 0.6972\n",
            "Epoch 52/80\n",
            "11/11 [==============================] - 16s 1s/step - loss: 0.8361 - acc: 0.6452 - val_loss: 0.7177 - val_acc: 0.6901\n",
            "Epoch 53/80\n",
            "11/11 [==============================] - 16s 1s/step - loss: 0.8372 - acc: 0.6745 - val_loss: 0.8046 - val_acc: 0.6620\n",
            "Epoch 54/80\n",
            "11/11 [==============================] - 16s 1s/step - loss: 0.8320 - acc: 0.6862 - val_loss: 0.7583 - val_acc: 0.7042\n",
            "Epoch 55/80\n",
            "11/11 [==============================] - 15s 1s/step - loss: 0.8278 - acc: 0.6804 - val_loss: 0.7887 - val_acc: 0.6831\n",
            "Epoch 56/80\n",
            "11/11 [==============================] - 16s 1s/step - loss: 0.8247 - acc: 0.6979 - val_loss: 0.7902 - val_acc: 0.6831\n",
            "Epoch 57/80\n",
            "11/11 [==============================] - 16s 1s/step - loss: 0.7237 - acc: 0.6921 - val_loss: 0.7622 - val_acc: 0.7042\n",
            "Epoch 58/80\n",
            "11/11 [==============================] - 15s 1s/step - loss: 0.8182 - acc: 0.7009 - val_loss: 0.7887 - val_acc: 0.7254\n",
            "Epoch 59/80\n",
            "11/11 [==============================] - 16s 1s/step - loss: 0.8000 - acc: 0.6833 - val_loss: 0.9085 - val_acc: 0.6479\n",
            "Epoch 60/80\n",
            "11/11 [==============================] - 15s 1s/step - loss: 0.7711 - acc: 0.6833 - val_loss: 0.8780 - val_acc: 0.6549\n",
            "Epoch 61/80\n",
            "11/11 [==============================] - 16s 1s/step - loss: 0.7516 - acc: 0.7126 - val_loss: 0.7470 - val_acc: 0.6972\n",
            "Epoch 62/80\n",
            "11/11 [==============================] - 16s 1s/step - loss: 0.7601 - acc: 0.7155 - val_loss: 0.8032 - val_acc: 0.7183\n",
            "Epoch 63/80\n",
            "11/11 [==============================] - 16s 1s/step - loss: 0.7877 - acc: 0.6862 - val_loss: 0.6437 - val_acc: 0.7465\n",
            "Epoch 64/80\n",
            "11/11 [==============================] - 15s 1s/step - loss: 0.7127 - acc: 0.7361 - val_loss: 0.7063 - val_acc: 0.7042\n",
            "Epoch 65/80\n",
            "11/11 [==============================] - 15s 1s/step - loss: 0.6681 - acc: 0.7625 - val_loss: 0.6734 - val_acc: 0.7183\n",
            "Epoch 66/80\n",
            "11/11 [==============================] - 15s 1s/step - loss: 0.6970 - acc: 0.7419 - val_loss: 0.7157 - val_acc: 0.7324\n",
            "Epoch 67/80\n",
            "11/11 [==============================] - 16s 1s/step - loss: 0.7002 - acc: 0.7390 - val_loss: 0.6410 - val_acc: 0.7113\n",
            "Epoch 68/80\n",
            "11/11 [==============================] - 16s 1s/step - loss: 0.6898 - acc: 0.7566 - val_loss: 0.6682 - val_acc: 0.7394\n",
            "Epoch 69/80\n",
            "11/11 [==============================] - 15s 1s/step - loss: 0.6997 - acc: 0.7243 - val_loss: 0.7021 - val_acc: 0.7394\n",
            "Epoch 70/80\n",
            "11/11 [==============================] - 15s 1s/step - loss: 0.6750 - acc: 0.7243 - val_loss: 0.7403 - val_acc: 0.7324\n",
            "Epoch 71/80\n",
            "11/11 [==============================] - 15s 1s/step - loss: 0.6247 - acc: 0.7595 - val_loss: 0.6869 - val_acc: 0.7465\n",
            "Epoch 72/80\n",
            "11/11 [==============================] - 16s 1s/step - loss: 0.6576 - acc: 0.7449 - val_loss: 0.8118 - val_acc: 0.6620\n",
            "Epoch 73/80\n",
            "11/11 [==============================] - 16s 1s/step - loss: 0.6533 - acc: 0.7449 - val_loss: 0.7686 - val_acc: 0.7042\n",
            "Epoch 74/80\n",
            "11/11 [==============================] - 15s 1s/step - loss: 0.5972 - acc: 0.7742 - val_loss: 0.7516 - val_acc: 0.7394\n",
            "Epoch 75/80\n",
            "11/11 [==============================] - 15s 1s/step - loss: 0.5964 - acc: 0.7654 - val_loss: 0.7544 - val_acc: 0.7183\n",
            "Epoch 76/80\n",
            "11/11 [==============================] - 15s 1s/step - loss: 0.5667 - acc: 0.7830 - val_loss: 0.6912 - val_acc: 0.7394\n",
            "Epoch 77/80\n",
            "11/11 [==============================] - 15s 1s/step - loss: 0.6791 - acc: 0.7537 - val_loss: 0.7267 - val_acc: 0.6972\n",
            "Epoch 78/80\n",
            "11/11 [==============================] - 15s 1s/step - loss: 0.5888 - acc: 0.7801 - val_loss: 0.6733 - val_acc: 0.7042\n",
            "Epoch 79/80\n",
            "11/11 [==============================] - 15s 1s/step - loss: 0.6288 - acc: 0.7683 - val_loss: 0.7096 - val_acc: 0.7113\n",
            "Epoch 80/80\n",
            "11/11 [==============================] - 15s 1s/step - loss: 0.5646 - acc: 0.7859 - val_loss: 0.7827 - val_acc: 0.6972\n"
          ],
          "name": "stdout"
        }
      ]
    },
    {
      "cell_type": "code",
      "metadata": {
        "colab": {
          "base_uri": "https://localhost:8080/",
          "height": 265
        },
        "id": "uOTANfnITvAA",
        "outputId": "6da6df21-e6ff-4a7d-ac9d-16972b2014fe"
      },
      "source": [
        "# Plot accuracy per iteration\n",
        "import matplotlib.pyplot as plt\n",
        "plt.plot(r.history['acc'], label='acc')\n",
        "plt.plot(r.history['val_acc'], label='val_acc')\n",
        "plt.legend();"
      ],
      "execution_count": null,
      "outputs": [
        {
          "output_type": "display_data",
          "data": {
            "image/png": "[encoded data removed]",
            "text/plain": [
              "<Figure size 432x288 with 1 Axes>"
            ]
          },
          "metadata": {
            "tags": [],
            "needs_background": "light"
          }
        }
      ]
    },
    {
      "cell_type": "code",
      "metadata": {
        "colab": {
          "base_uri": "https://localhost:8080/",
          "height": 265
        },
        "id": "6G3QnAxrTvDT",
        "outputId": "75872e72-558e-4083-815a-8e2e1e9ed77c"
      },
      "source": [
        "# Plot loss per iteration\n",
        "import matplotlib.pyplot as plt\n",
        "plt.plot(r.history['loss'], label='loss')\n",
        "plt.plot(r.history['val_loss'], label='val_loss')\n",
        "plt.legend();"
      ],
      "execution_count": null,
      "outputs": [
        {
          "output_type": "display_data",
          "data": {
            "image/png": "[encoded data removed]",
            "text/plain": [
              "<Figure size 432x288 with 1 Axes>"
            ]
          },
          "metadata": {
            "tags": [],
            "needs_background": "light"
          }
        }
      ]
    },
    {
      "cell_type": "code",
      "metadata": {
        "colab": {
          "base_uri": "https://localhost:8080/"
        },
        "id": "wNJP4ruoUCST",
        "outputId": "89d04d9c-861e-4805-b8a0-e1301ba6d28e"
      },
      "source": [
        "score = model1.evaluate(validation_generator)\n",
        "print('Test loss:', score[0])\n",
        "print('Test accuracy:', score[1])"
      ],
      "execution_count": null,
      "outputs": [
        {
          "output_type": "stream",
          "text": [
            "5/5 [==============================] - 5s 931ms/step - loss: 0.7884 - acc: 0.6901\n",
            "Test loss: 0.7884079813957214\n",
            "Test accuracy: 0.6901408433914185\n"
          ],
          "name": "stdout"
        }
      ]
    },
    {
      "cell_type": "markdown",
      "metadata": {
        "id": "7NG-bITSRSnx"
      },
      "source": [
        "Model was ablw to attain maximum training accuracy of 78.6 % and maximum Test accuracy of 74.6 %.\n",
        "\n",
        "We can try performing hyperparameter tuning or using some other pretrained model to increase the accuracy of the model."
      ]
    }
  ]
}